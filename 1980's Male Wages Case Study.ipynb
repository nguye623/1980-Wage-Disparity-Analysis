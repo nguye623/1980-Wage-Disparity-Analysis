{
 "cells": [
  {
   "cell_type": "markdown",
   "id": "60fec5a3",
   "metadata": {},
   "source": [
    "# Case study for male wages in 1980"
   ]
  },
  {
   "cell_type": "code",
   "execution_count": 18,
   "id": "b85cca10",
   "metadata": {},
   "outputs": [],
   "source": [
    "# Import libraries\n",
    "import pandas as pd\n",
    "import numpy as np\n",
    "import matplotlib.pyplot as plt\n",
    "\n",
    "# Read CSV file\n",
    "wage2 = pd.read_csv(r'C:\\Users\\Computer\\Desktop\\Github\\04 Male Wage Disparity\\WAGE2.csv',\n",
    "                   index_col = False, delimiter =',')\n",
    "\n",
    "# Remove first empty column, fill NaN\n",
    "del wage2[wage2.columns[0]]\n",
    "wage2 = wage2.fillna(0)"
   ]
  },
  {
   "cell_type": "markdown",
   "id": "10098c16",
   "metadata": {},
   "source": [
    "## Understanding the Data\n",
    "\n",
    "The data set contains information regarding the monthly earnings, employment history, education, demographic characteristics, black or not black, and other similar information for 935 men in the year 1980.\n",
    "\n",
    "# Part 1 Did black men earn less than non-black men?\n",
    "\n",
    "This section will focus on highlighting and proving the wage desparity between black and non-black men. We can accomplish this by conducting a two sample T-test. This will allow us to see how accurate the sample is to the representing population. \n",
    "\n",
    "#### Step 1. Generate the mean of variable wage for black and nonblack men.\n",
    "\n",
    "Before performing the T-test, it is valuable to find the mean variable wages of nonblack and black men to see if within the sample exist a difference. We can also use the results in to perform the T-test. "
   ]
  },
  {
   "cell_type": "code",
   "execution_count": 19,
   "id": "b142625e",
   "metadata": {},
   "outputs": [
    {
     "name": "stdout",
     "output_type": "stream",
     "text": [
      "(815, np.float64(6.816), np.float64(0.412), np.float64(4.745), np.float64(8.032))\n"
     ]
    }
   ],
   "source": [
    "# Sample mean of variable wages of nonblack men\n",
    "\n",
    "# Filter for non-black men (Black == 0)\n",
    "nonblack_men = wage2[wage2['black'] == 0]\n",
    "\n",
    "# Compute the requested statistics\n",
    "count_obs = nonblack_men.shape[0]  # Count of observations\n",
    "avg_lwage = round(nonblack_men['lwage'].mean(), 3)\n",
    "stddev_lwage = round(nonblack_men['lwage'].std(), 3)  # Standard deviation\n",
    "min_lwage = round(nonblack_men['lwage'].min(), 3)\n",
    "max_lwage = round(nonblack_men['lwage'].max(), 3)\n",
    "\n",
    "# Display results\n",
    "result = (count_obs, avg_lwage, stddev_lwage, min_lwage, max_lwage)\n",
    "print(result)"
   ]
  },
  {
   "cell_type": "code",
   "execution_count": 20,
   "id": "e665e487",
   "metadata": {},
   "outputs": [
    {
     "name": "stdout",
     "output_type": "stream",
     "text": [
      "(120, np.float64(6.524), np.float64(0.394), np.float64(5.561), np.float64(7.536))\n"
     ]
    }
   ],
   "source": [
    "# Sample mean of variable wages of black men\n",
    "black_men = wage2[wage2['black'] == 1]\n",
    "\n",
    "# Compute the requested statistics\n",
    "count_obs = black_men.shape[0]  # Count of observations\n",
    "avg_lwage = round(black_men['lwage'].mean(), 3)\n",
    "stddev_lwage = round(black_men['lwage'].std(), 3)  # Standard deviation\n",
    "min_lwage = round(black_men['lwage'].min(), 3)\n",
    "max_lwage = round(black_men['lwage'].max(), 3)\n",
    "\n",
    "result = (count_obs, avg_lwage, stddev_lwage, min_lwage, max_lwage)\n",
    "print(result)\n",
    "\n",
    "# [(120, 6.524, 0.392, 5.561, 7.536)]"
   ]
  },
  {
   "cell_type": "markdown",
   "id": "0f43aade",
   "metadata": {},
   "source": [
    "#### Step 2. Write down a null and alternative hypothesis for wages.\n",
    "\n",
    "Ho:E(Y) = 0 or the Null Hypothesis. This result means that wages of black and nonblack men are equal\n",
    "\n",
    "Ho:E(Y) /= 0 or the Alternative Hypothesis. This result means that wages of black and nonblack men are not equal\n",
    "\n",
    "#### Step 3. Perform a T-test\n",
    "\n",
    "There are many ways to perform a T-test, the quickest way is to use the formulas and algebra with the data given from the SQL queries previously.\n",
    "\n",
    "A T-test produces two outputs, the Degrees of Freedom and the T-value."
   ]
  },
  {
   "cell_type": "code",
   "execution_count": 21,
   "id": "1a45de9c",
   "metadata": {},
   "outputs": [
    {
     "name": "stdout",
     "output_type": "stream",
     "text": [
      "The Degrees of Freedom is  933\n",
      "The T-Value is  7.568\n"
     ]
    }
   ],
   "source": [
    "# T-Test (Wage) using SQL query data\n",
    "import math \n",
    "\n",
    "DF = (815 + 120) - 2 \n",
    "TValue = round((6.816 - 6.524) / math.sqrt(((0.412**2) / 815) + ((0.392**2) / 120)),3)\n",
    "\n",
    "print(\"The Degrees of Freedom is \",DF)\n",
    "print(\"The T-Value is \",TValue)"
   ]
  },
  {
   "cell_type": "markdown",
   "id": "791b6e8c",
   "metadata": {},
   "source": [
    "We can use the results of the T-test to reject or accept the Null Hypothesis at a certain confidence interval. In layman terms, a confidence interval is the level of confidence that this sample is representative of the actual population.\n",
    "\n",
    "Here is a cheat sheet for using DF and T-Value. http://simulation-math.com/TDistTable.pdf.\n",
    "\n",
    "From our data, we are 99.95% confident that the sample data represents the actual wage difference of black and non-black men. And on average, black men have a lower wage of 4.28% per month compared to nonblack men.\n",
    "\n",
    "\n",
    "\n",
    "# Part 2 Dive deeper. Why black men are paid less?\n",
    "\n",
    "Well great, it doesn't take a rocket-scientist to know that black men were paid less in 1980. \n",
    "\n",
    "One theory explaining the wage disparity for black men during this time was education disparity. We can perform another T-test to examine the education difference between black and non-black men.\n",
    "\n",
    "#### Step 1. Generate the mean of education years for black and nonblack men."
   ]
  },
  {
   "cell_type": "code",
   "execution_count": 22,
   "id": "42ffad38",
   "metadata": {},
   "outputs": [
    {
     "name": "stdout",
     "output_type": "stream",
     "text": [
      "(815, np.float64(13.62), np.float64(2.217), np.int64(9), np.int64(18))\n"
     ]
    }
   ],
   "source": [
    "# Sample mean of variable education of nonblack men\n",
    "\n",
    "# Filter for non-black men\n",
    "nonblack_men = wage2[wage2['black'] == 0]\n",
    "\n",
    "# Compute statistics for the 'educ' variable\n",
    "count_obs = nonblack_men.shape[0]  # Count of observations\n",
    "avg_educ = round(nonblack_men['educ'].mean(), 3)  # Mean of 'educ'\n",
    "stddev_educ = round(nonblack_men['educ'].std(), 3)  # Standard deviation\n",
    "min_educ = round(nonblack_men['educ'].min(), 3)  # Minimum value\n",
    "max_educ = round(nonblack_men['educ'].max(), 3)  # Maximum value\n",
    "\n",
    "# Display results\n",
    "educ_result = (count_obs, avg_educ, stddev_educ, min_educ, max_educ)\n",
    "print(educ_result)"
   ]
  },
  {
   "cell_type": "code",
   "execution_count": 23,
   "id": "b9f6cac8",
   "metadata": {},
   "outputs": [
    {
     "name": "stdout",
     "output_type": "stream",
     "text": [
      "(120, np.float64(12.442), np.float64(1.738), np.int64(9), np.int64(18))\n"
     ]
    }
   ],
   "source": [
    "# Sample mean of variable education of black men\n",
    "\n",
    "# Filter for black men\n",
    "black_men = wage2[wage2['black'] == 1]\n",
    "\n",
    "# Compute statistics for the 'educ' variable\n",
    "count_obs = black_men.shape[0]  # Count of observations\n",
    "avg_educ = round(black_men['educ'].mean(), 3)  # Mean of 'educ'\n",
    "stddev_educ = round(black_men['educ'].std(), 3)  # Standard deviation\n",
    "min_educ = round(black_men['educ'].min(), 3)  # Minimum value\n",
    "max_educ = round(black_men['educ'].max(), 3)  # Maximum value\n",
    "\n",
    "# Display results\n",
    "educ_result = (count_obs, avg_educ, stddev_educ, min_educ, max_educ)\n",
    "print(educ_result)\n",
    "\n",
    "# [(120, Decimal('12.442'), 1.731, 9, 18)]"
   ]
  },
  {
   "cell_type": "markdown",
   "id": "a8df0880",
   "metadata": {},
   "source": [
    "#### Step 2. Write down a null and alternative hypothesis for Education.\n",
    "\n",
    "Ho:E(Y) = 0 or the Null Hypothesis. This result means that education of black and nonblack men are equal\n",
    "\n",
    "Ho:E(Y) /= 0 or the Alternative Hypothesis. This result means that education of black and nonblack men are not equal\n",
    "\n",
    "#### Step 3. Perform a T-test"
   ]
  },
  {
   "cell_type": "code",
   "execution_count": 24,
   "id": "6b3714ac",
   "metadata": {},
   "outputs": [
    {
     "name": "stdout",
     "output_type": "stream",
     "text": [
      "The Degrees of Freedom is  933\n",
      "The T-Value is  6.691\n"
     ]
    }
   ],
   "source": [
    "# T-test (Education) using SQL query data\n",
    "import math \n",
    "\n",
    "DF = (815 + 120) - 2  # 2 is used because there are two samples\n",
    "TValue = round((13.620 - 12.442) / math.sqrt(((2.216**2) / 815) + ((1.731**2) / 120)),3)\n",
    "\n",
    "print(\"The Degrees of Freedom is \",DF)\n",
    "print(\"The T-Value is \",TValue)"
   ]
  },
  {
   "cell_type": "markdown",
   "id": "9b42bbd6",
   "metadata": {},
   "source": [
    "We can see the difference in the mean years of education between both demographics in the sample. Using a T-test confirms this is true in the overall population as well.\n",
    "\n",
    "Our T-Value is 6.691, so we are over 99.95% confident our results are true. And on average black men have 8.65% less education years compared to nonblack men.\n",
    "\n",
    "#### Conclusion\n",
    "\n",
    "If you are the average black man in 1980, you are extremely likely to have less education than a white man. And you are also likely to get paid less than your nonblack counterpart."
   ]
  },
  {
   "cell_type": "markdown",
   "id": "dc6f9a78",
   "metadata": {},
   "source": [
    "## Part 3. How important is education for earning a higher wage?\n",
    "\n",
    "Based on our previous conclusion, we can make the assumption that education and wage is correlated. But lets examine the continued relation between education and wage using a linear regression. \n",
    "\n",
    "With a linear regression we can estimate on average how much an additional year of education would affect your monthly wages and how much you would make with zero education. We use this information to forecast whether it would have been worth the years of education for a man in the 1980's."
   ]
  },
  {
   "cell_type": "markdown",
   "id": "2e385d23",
   "metadata": {},
   "source": [
    "#### Step 1. Understanding the linear regression model.\n",
    "\n",
    "#### lwage= β0 + β1educ + u \n",
    "\n",
    "lwage: Monthly wage\n",
    "\n",
    "β0: The intercept, how much you would get paid without any years of education\n",
    "\n",
    "β1educ: The causal effect between monthly wages and years. This is only a true association if β1educ is not affected directly by u.\n",
    "\n",
    "u: An error term that cannot be measured within the regression. An example of such is work ethic between different cities that was sampled.\n",
    "\n",
    "#### Step 2. Performing the linear regression and visualization."
   ]
  },
  {
   "cell_type": "code",
   "execution_count": 25,
   "id": "cf427e7a",
   "metadata": {},
   "outputs": [
    {
     "name": "stdout",
     "output_type": "stream",
     "text": [
      "Estimated coefficients:\n",
      "β0 = 146.952439749056            \n",
      "β1 = 60.21428323946896\n"
     ]
    },
    {
     "data": {
      "image/png": "[encoded data removed]",
      "text/plain": [
       "<Figure size 640x480 with 1 Axes>"
      ]
     },
     "metadata": {},
     "output_type": "display_data"
    }
   ],
   "source": [
    "# Linear regression of Education and Monthly Wage\n",
    " \n",
    "def estimate_coef(x, y):\n",
    "    # number of observations\n",
    "    n = np.size(x)\n",
    " \n",
    "    # mean x and y\n",
    "    m_x = np.mean(x)\n",
    "    m_y = np.mean(y)\n",
    " \n",
    "    # cross deviation and deviation about x\n",
    "    SS_xy = np.sum(y*x) - n*m_y*m_x\n",
    "    SS_xx = np.sum(x*x) - n*m_x*m_x\n",
    " \n",
    "    # regression coefficients\n",
    "    b_1 = SS_xy / SS_xx\n",
    "    b_0 = m_y - b_1*m_x\n",
    " \n",
    "    return (b_0, b_1)\n",
    " \n",
    "def plot_regression_line(x, y, b):\n",
    "    # plotting points as scatter plot\n",
    "    plt.scatter(x, y, color = \"m\",\n",
    "               marker = \"o\", s = 3)\n",
    " \n",
    "    # predicted response vector\n",
    "    y_pred = b[0] + b[1]*x\n",
    " \n",
    "    # plotting regression line\n",
    "    plt.plot(x, y_pred, color = \"g\")\n",
    " \n",
    "    # plot\n",
    "    plt.xlabel('Education')\n",
    "    plt.ylabel('Wage')\n",
    "    plt.show()\n",
    " \n",
    "def main():\n",
    "    # data\n",
    "    x = (wage2['educ'].to_numpy())\n",
    "    y = (wage2['wage'].to_numpy())\n",
    " \n",
    "    # coefficients\n",
    "    b = estimate_coef(x, y)\n",
    "    print(\"Estimated coefficients:\\nβ0 = {}  \\\n",
    "          \\nβ1 = {}\".format(b[0], b[1]))\n",
    " \n",
    "    # plotting regression line\n",
    "    plot_regression_line(x, y, b)\n",
    " \n",
    "if __name__ == \"__main__\":\n",
    "    main()"
   ]
  },
  {
   "cell_type": "markdown",
   "id": "31ee5fb9",
   "metadata": {},
   "source": [
    "The formula result is:\n",
    "\n",
    "lwage= 146.952 + (60.214)educ + u\n",
    "\n",
    "Which means that a man with no education will make 146.952 per month. And with every year of education he gets, it adds an additional 60.214 per month.\n",
    "\n",
    "#### Step 3. Forecasting\n",
    "\n",
    "How much does a highschool educated man make compared to someone who has never had any education?\n",
    "\n",
    "Someone with zero education at all would make a log earning of 146.952. While someone with highschool education would make 1230.804 per month with 18 years of education.\n",
    "\n",
    "However, if we look at the visualization you will spot many individuals with high deviation from the mean. On average you are likely to make more with continued education. This applies to a sample or population instead of a person to person basis."
   ]
  }
 ],
 "metadata": {
  "kernelspec": {
   "display_name": "Python 3",
   "language": "python",
   "name": "python3"
  },
  "language_info": {
   "codemirror_mode": {
    "name": "ipython",
    "version": 3
   },
   "file_extension": ".py",
   "mimetype": "text/x-python",
   "name": "python",
   "nbconvert_exporter": "python",
   "pygments_lexer": "ipython3",
   "version": "3.11.9"
  }
 },
 "nbformat": 4,
 "nbformat_minor": 5
}
